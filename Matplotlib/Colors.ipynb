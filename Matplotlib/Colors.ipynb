{
 "cells": [
  {
   "cell_type": "code",
   "execution_count": 9,
   "source": [
    "import numpy as np\r\n",
    "import pandas as pd\r\n",
    "\r\n",
    "from random import random\r\n",
    "\r\n",
    "# matplotlib\r\n",
    "import matplotlib as mpl\r\n",
    "import matplotlib.pyplot as plt\r\n",
    "import matplotlib.colors as mcolors\r\n",
    "\r\n",
    "# cycler\r\n",
    "from cycler import cycler\r\n",
    "\r\n",
    "%matplotlib inline\r\n",
    "print(mpl.__version__)"
   ],
   "outputs": [
    {
     "output_type": "stream",
     "name": "stdout",
     "text": [
      "3.3.2\n"
     ]
    }
   ],
   "metadata": {}
  },
  {
   "cell_type": "markdown",
   "source": [
    "## Colors"
   ],
   "metadata": {}
  },
  {
   "cell_type": "markdown",
   "source": [
    "### 1. matplotlib color set"
   ],
   "metadata": {}
  },
  {
   "cell_type": "markdown",
   "source": [
    "<img src=\"images/matplotlib_base_colors.png\" style=\"display: block; margin: auto;\" alt=\"matplotlib's base colors\" />\r\n",
    "<img src=\"images/matplotlib_tableau_palette.png\" style=\"display: block; margin: auto;\" alt=\"matplotlib's tableau palette (colors)\" />\r\n",
    "<img src=\"images/matplotlib_css_colors.png\" style=\"display: block; margin: auto;\" alt=\"matplotlib's colors (about css)\" />"
   ],
   "metadata": {}
  },
  {
   "cell_type": "code",
   "execution_count": 7,
   "source": [
    "print(\r\n",
    "  \"mcolors.BASE_COLORS['r']: {},\\t\\ttype={}\"\r\n",
    "  .format(mcolors.BASE_COLORS['r'], type(mcolors.BASE_COLORS['r'])),\r\n",
    "  \"mcolors.TABLEAU_COLORS['tab:red']: {},\\ttype={}\"\r\n",
    "  .format(mcolors.TABLEAU_COLORS['tab:red'], type(mcolors.TABLEAU_COLORS['tab:red'])),\r\n",
    "  \"mcolors.CSS4_COLORS['red']: {},\\t\\ttype: {}\"\r\n",
    "  .format(mcolors.CSS4_COLORS['red'], type(mcolors.CSS4_COLORS['red'])),\r\n",
    "  sep=\"\\n\")"
   ],
   "outputs": [
    {
     "output_type": "stream",
     "name": "stdout",
     "text": [
      "mcolors.BASE_COLORS['r']: (1, 0, 0),\t\ttype=<class 'tuple'>\n",
      "mcolors.TABLEAU_COLORS['tab:red']: #d62728,\ttype=<class 'str'>\n",
      "mcolors.CSS4_COLORS['red']: #FF0000,\t\ttype: <class 'str'>\n"
     ]
    }
   ],
   "metadata": {}
  },
  {
   "cell_type": "markdown",
   "source": [
    "세 색들의 저장 방식이 다르다 = 이용하기 어렵다로 해석될 수 있으나<br />\r\n",
    "matplotlib가 잘 되어 있어 내부 기능을 통해 통일시켜 이용할 수 있다."
   ],
   "metadata": {}
  },
  {
   "cell_type": "code",
   "execution_count": 19,
   "source": [
    "colorl = {}\r\n",
    "colorl.update(mcolors.BASE_COLORS)\r\n",
    "colorl.update(mcolors.TABLEAU_COLORS)\r\n",
    "colorl.update(mcolors.CSS4_COLORS)\r\n",
    "\r\n",
    "colorn, colorc = [], []\r\n",
    "for name, color in colorl.items():\r\n",
    "  colorn.append(name)\r\n",
    "  colorc.append(color)"
   ],
   "outputs": [],
   "metadata": {}
  },
  {
   "cell_type": "code",
   "execution_count": 20,
   "source": [
    "colorl"
   ],
   "outputs": [
    {
     "output_type": "execute_result",
     "data": {
      "text/plain": [
       "{'b': (0, 0, 1),\n",
       " 'g': (0, 0.5, 0),\n",
       " 'r': (1, 0, 0),\n",
       " 'c': (0, 0.75, 0.75),\n",
       " 'm': (0.75, 0, 0.75),\n",
       " 'y': (0.75, 0.75, 0),\n",
       " 'k': (0, 0, 0),\n",
       " 'w': (1, 1, 1),\n",
       " 'tab:blue': '#1f77b4',\n",
       " 'tab:orange': '#ff7f0e',\n",
       " 'tab:green': '#2ca02c',\n",
       " 'tab:red': '#d62728',\n",
       " 'tab:purple': '#9467bd',\n",
       " 'tab:brown': '#8c564b',\n",
       " 'tab:pink': '#e377c2',\n",
       " 'tab:gray': '#7f7f7f',\n",
       " 'tab:olive': '#bcbd22',\n",
       " 'tab:cyan': '#17becf',\n",
       " 'aliceblue': '#F0F8FF',\n",
       " 'antiquewhite': '#FAEBD7',\n",
       " 'aqua': '#00FFFF',\n",
       " 'aquamarine': '#7FFFD4',\n",
       " 'azure': '#F0FFFF',\n",
       " 'beige': '#F5F5DC',\n",
       " 'bisque': '#FFE4C4',\n",
       " 'black': '#000000',\n",
       " 'blanchedalmond': '#FFEBCD',\n",
       " 'blue': '#0000FF',\n",
       " 'blueviolet': '#8A2BE2',\n",
       " 'brown': '#A52A2A',\n",
       " 'burlywood': '#DEB887',\n",
       " 'cadetblue': '#5F9EA0',\n",
       " 'chartreuse': '#7FFF00',\n",
       " 'chocolate': '#D2691E',\n",
       " 'coral': '#FF7F50',\n",
       " 'cornflowerblue': '#6495ED',\n",
       " 'cornsilk': '#FFF8DC',\n",
       " 'crimson': '#DC143C',\n",
       " 'cyan': '#00FFFF',\n",
       " 'darkblue': '#00008B',\n",
       " 'darkcyan': '#008B8B',\n",
       " 'darkgoldenrod': '#B8860B',\n",
       " 'darkgray': '#A9A9A9',\n",
       " 'darkgreen': '#006400',\n",
       " 'darkgrey': '#A9A9A9',\n",
       " 'darkkhaki': '#BDB76B',\n",
       " 'darkmagenta': '#8B008B',\n",
       " 'darkolivegreen': '#556B2F',\n",
       " 'darkorange': '#FF8C00',\n",
       " 'darkorchid': '#9932CC',\n",
       " 'darkred': '#8B0000',\n",
       " 'darksalmon': '#E9967A',\n",
       " 'darkseagreen': '#8FBC8F',\n",
       " 'darkslateblue': '#483D8B',\n",
       " 'darkslategray': '#2F4F4F',\n",
       " 'darkslategrey': '#2F4F4F',\n",
       " 'darkturquoise': '#00CED1',\n",
       " 'darkviolet': '#9400D3',\n",
       " 'deeppink': '#FF1493',\n",
       " 'deepskyblue': '#00BFFF',\n",
       " 'dimgray': '#696969',\n",
       " 'dimgrey': '#696969',\n",
       " 'dodgerblue': '#1E90FF',\n",
       " 'firebrick': '#B22222',\n",
       " 'floralwhite': '#FFFAF0',\n",
       " 'forestgreen': '#228B22',\n",
       " 'fuchsia': '#FF00FF',\n",
       " 'gainsboro': '#DCDCDC',\n",
       " 'ghostwhite': '#F8F8FF',\n",
       " 'gold': '#FFD700',\n",
       " 'goldenrod': '#DAA520',\n",
       " 'gray': '#808080',\n",
       " 'green': '#008000',\n",
       " 'greenyellow': '#ADFF2F',\n",
       " 'grey': '#808080',\n",
       " 'honeydew': '#F0FFF0',\n",
       " 'hotpink': '#FF69B4',\n",
       " 'indianred': '#CD5C5C',\n",
       " 'indigo': '#4B0082',\n",
       " 'ivory': '#FFFFF0',\n",
       " 'khaki': '#F0E68C',\n",
       " 'lavender': '#E6E6FA',\n",
       " 'lavenderblush': '#FFF0F5',\n",
       " 'lawngreen': '#7CFC00',\n",
       " 'lemonchiffon': '#FFFACD',\n",
       " 'lightblue': '#ADD8E6',\n",
       " 'lightcoral': '#F08080',\n",
       " 'lightcyan': '#E0FFFF',\n",
       " 'lightgoldenrodyellow': '#FAFAD2',\n",
       " 'lightgray': '#D3D3D3',\n",
       " 'lightgreen': '#90EE90',\n",
       " 'lightgrey': '#D3D3D3',\n",
       " 'lightpink': '#FFB6C1',\n",
       " 'lightsalmon': '#FFA07A',\n",
       " 'lightseagreen': '#20B2AA',\n",
       " 'lightskyblue': '#87CEFA',\n",
       " 'lightslategray': '#778899',\n",
       " 'lightslategrey': '#778899',\n",
       " 'lightsteelblue': '#B0C4DE',\n",
       " 'lightyellow': '#FFFFE0',\n",
       " 'lime': '#00FF00',\n",
       " 'limegreen': '#32CD32',\n",
       " 'linen': '#FAF0E6',\n",
       " 'magenta': '#FF00FF',\n",
       " 'maroon': '#800000',\n",
       " 'mediumaquamarine': '#66CDAA',\n",
       " 'mediumblue': '#0000CD',\n",
       " 'mediumorchid': '#BA55D3',\n",
       " 'mediumpurple': '#9370DB',\n",
       " 'mediumseagreen': '#3CB371',\n",
       " 'mediumslateblue': '#7B68EE',\n",
       " 'mediumspringgreen': '#00FA9A',\n",
       " 'mediumturquoise': '#48D1CC',\n",
       " 'mediumvioletred': '#C71585',\n",
       " 'midnightblue': '#191970',\n",
       " 'mintcream': '#F5FFFA',\n",
       " 'mistyrose': '#FFE4E1',\n",
       " 'moccasin': '#FFE4B5',\n",
       " 'navajowhite': '#FFDEAD',\n",
       " 'navy': '#000080',\n",
       " 'oldlace': '#FDF5E6',\n",
       " 'olive': '#808000',\n",
       " 'olivedrab': '#6B8E23',\n",
       " 'orange': '#FFA500',\n",
       " 'orangered': '#FF4500',\n",
       " 'orchid': '#DA70D6',\n",
       " 'palegoldenrod': '#EEE8AA',\n",
       " 'palegreen': '#98FB98',\n",
       " 'paleturquoise': '#AFEEEE',\n",
       " 'palevioletred': '#DB7093',\n",
       " 'papayawhip': '#FFEFD5',\n",
       " 'peachpuff': '#FFDAB9',\n",
       " 'peru': '#CD853F',\n",
       " 'pink': '#FFC0CB',\n",
       " 'plum': '#DDA0DD',\n",
       " 'powderblue': '#B0E0E6',\n",
       " 'purple': '#800080',\n",
       " 'rebeccapurple': '#663399',\n",
       " 'red': '#FF0000',\n",
       " 'rosybrown': '#BC8F8F',\n",
       " 'royalblue': '#4169E1',\n",
       " 'saddlebrown': '#8B4513',\n",
       " 'salmon': '#FA8072',\n",
       " 'sandybrown': '#F4A460',\n",
       " 'seagreen': '#2E8B57',\n",
       " 'seashell': '#FFF5EE',\n",
       " 'sienna': '#A0522D',\n",
       " 'silver': '#C0C0C0',\n",
       " 'skyblue': '#87CEEB',\n",
       " 'slateblue': '#6A5ACD',\n",
       " 'slategray': '#708090',\n",
       " 'slategrey': '#708090',\n",
       " 'snow': '#FFFAFA',\n",
       " 'springgreen': '#00FF7F',\n",
       " 'steelblue': '#4682B4',\n",
       " 'tan': '#D2B48C',\n",
       " 'teal': '#008080',\n",
       " 'thistle': '#D8BFD8',\n",
       " 'tomato': '#FF6347',\n",
       " 'turquoise': '#40E0D0',\n",
       " 'violet': '#EE82EE',\n",
       " 'wheat': '#F5DEB3',\n",
       " 'white': '#FFFFFF',\n",
       " 'whitesmoke': '#F5F5F5',\n",
       " 'yellow': '#FFFF00',\n",
       " 'yellowgreen': '#9ACD32'}"
      ]
     },
     "metadata": {},
     "execution_count": 20
    }
   ],
   "metadata": {}
  },
  {
   "cell_type": "markdown",
   "source": [
    "### 2. Cycler"
   ],
   "metadata": {}
  },
  {
   "cell_type": "markdown",
   "source": [
    "matplotlib에서 여러 색을 이용하나 그 색들의 index를 넘어가는 값에 대해선 순환하여 색을 대체한다.<br />색이 저장된 데이터 구조가 10개의 원형-큐의 형태이다."
   ],
   "metadata": {}
  },
  {
   "cell_type": "code",
   "execution_count": 22,
   "source": [
    "plt.rcParams[\"axes.prop_cycle\"]"
   ],
   "outputs": [
    {
     "output_type": "execute_result",
     "data": {
      "text/html": [
       "<table><th>'color'</th><tr><td>'#1f77b4'</td></tr><tr><td>'#ff7f0e'</td></tr><tr><td>'#2ca02c'</td></tr><tr><td>'#d62728'</td></tr><tr><td>'#9467bd'</td></tr><tr><td>'#8c564b'</td></tr><tr><td>'#e377c2'</td></tr><tr><td>'#7f7f7f'</td></tr><tr><td>'#bcbd22'</td></tr><tr><td>'#17becf'</td></tr></table>"
      ],
      "text/plain": [
       "cycler('color', ['#1f77b4', '#ff7f0e', '#2ca02c', '#d62728', '#9467bd', '#8c564b', '#e377c2', '#7f7f7f', '#bcbd22', '#17becf'])"
      ]
     },
     "metadata": {},
     "execution_count": 22
    }
   ],
   "metadata": {}
  },
  {
   "cell_type": "code",
   "execution_count": 27,
   "source": [
    "plt.rc(\"axes\", prop_cycle=(cycler(color=[\"r\", \"g\", \"b\", \"y\"]) +\r\n",
    "                            cycler(linestyle=[\"-\", \"--\", \":\", \"-.\"])))\r\n",
    "\r\n",
    "data_x = np.array([0, 20])\r\n",
    "data_y = [0, 10]\r\n",
    "\r\n",
    "fig, ax = plt.subplots(figsize=(10, 5))\r\n",
    "for i in range(12):\r\n",
    "  ax.plot(data_x + 3 * i, data_y)\r\n",
    "plt.show()"
   ],
   "outputs": [
    {
     "output_type": "display_data",
     "data": {
      "image/png": "[encoded data removed]",
      "text/plain": [
       "<Figure size 720x360 with 1 Axes>"
      ]
     },
     "metadata": {
      "needs_background": "light"
     }
    }
   ],
   "metadata": {}
  },
  {
   "cell_type": "code",
   "execution_count": 28,
   "source": [
    "th = np.linspace(0, 2 * np.pi, 128)\r\n",
    "\r\n",
    "def demo(num):\r\n",
    "  ax[num].plot(th, np.cos(th), f\"C{num}\", label=f\"C{num}\")\r\n",
    "  ax[num].plot(th, np.sin(th), f\"C{num + 2}\", label=f\"C{num + 2}\")\r\n",
    "  ax[num].legend()"
   ],
   "outputs": [],
   "metadata": {}
  },
  {
   "cell_type": "code",
   "execution_count": 29,
   "source": [
    "mpl.style.use(\"seaborn-whitegrid\")\r\n",
    "fig, ax = plt.subplots(nrows=1, ncols=2, figsize=(10, 5))\r\n",
    "\r\n",
    "demo(0)\r\n",
    "demo(1)"
   ],
   "outputs": [
    {
     "output_type": "display_data",
     "data": {
      "image/png": "[encoded data removed]",
      "text/plain": [
       "<Figure size 720x360 with 2 Axes>"
      ]
     },
     "metadata": {}
    }
   ],
   "metadata": {}
  },
  {
   "cell_type": "markdown",
   "source": [
    "## Color Function"
   ],
   "metadata": {}
  },
  {
   "cell_type": "markdown",
   "source": [
    "<pre>\r\n",
    "matplotlib가 인식하는 color format\r\n",
    "\r\n",
    "1. 저장된 color name    \"darkred\"\r\n",
    "2. RGB 16진수           \"AABBFF\"\r\n",
    "3. RGBA 표기            \"AABBFF55\"\r\n",
    "4. RGB percent 표기     \"[0.2, 0.4, 0.5]\"\r\n",
    "5. RGBA percent 표기    \"[0.2, 0.4, 0.5, 0.6]\"\r\n",
    "</pre>"
   ],
   "metadata": {}
  },
  {
   "cell_type": "code",
   "execution_count": 11,
   "source": [
    "c1 = 'darkred'             # matplotlib color name\r\n",
    "c2 = '#AABBFF'             # hex code without alpha \r\n",
    "c3 = '#AABBFF55'           # hex code with alpha\r\n",
    "c4 = [0.2, 0.4, 0.5]       # RGB\r\n",
    "c5 = [0.2, 0.4, 0.5, 0.6]  # RGBA: RGB + alpha"
   ],
   "outputs": [],
   "metadata": {}
  },
  {
   "cell_type": "markdown",
   "source": [
    "### 1. to_hex(), to_rgb(), to_rgba()"
   ],
   "metadata": {}
  },
  {
   "cell_type": "code",
   "execution_count": 37,
   "source": [
    "colors = pd.DataFrame(columns=[\"input\", \"to_hex(F)\", \"to_hex(T)\", \"to_rgb()\",\r\n",
    "                               \"to_rgba(alpha=None)\", \"to_rgba(alpha=0.2)\"])\r\n",
    "\r\n",
    "for i in range(5):\r\n",
    "  hex_code0 = mcolors.to_hex(eval(f\"c{i + 1}\"), keep_alpha=False)\r\n",
    "  hex_code1 = mcolors.to_hex(eval(f\"c{i + 1}\"), keep_alpha=True)\r\n",
    "\r\n",
    "  rgb_code0 = np.round(mcolors.to_rgb(eval(f\"c{i + 1}\")), 3)\r\n",
    "\r\n",
    "  rgb_code1 = np.round(mcolors.to_rgba(eval(f\"c{i + 1}\")), 3)\r\n",
    "  rgb_code2 = np.round(mcolors.to_rgba(eval(f\"c{i + 1}\"), 0.2), 3)\r\n",
    "\r\n",
    "  colors.loc[i] = [eval(f\"c{i + 1}\"), hex_code0, hex_code1, rgb_code0, rgb_code1, rgb_code2]"
   ],
   "outputs": [],
   "metadata": {}
  },
  {
   "cell_type": "code",
   "execution_count": 38,
   "source": [
    "colors"
   ],
   "outputs": [
    {
     "output_type": "execute_result",
     "data": {
      "text/html": [
       "<div>\n",
       "<style scoped>\n",
       "    .dataframe tbody tr th:only-of-type {\n",
       "        vertical-align: middle;\n",
       "    }\n",
       "\n",
       "    .dataframe tbody tr th {\n",
       "        vertical-align: top;\n",
       "    }\n",
       "\n",
       "    .dataframe thead th {\n",
       "        text-align: right;\n",
       "    }\n",
       "</style>\n",
       "<table border=\"1\" class=\"dataframe\">\n",
       "  <thead>\n",
       "    <tr style=\"text-align: right;\">\n",
       "      <th></th>\n",
       "      <th>input</th>\n",
       "      <th>to_hex(F)</th>\n",
       "      <th>to_hex(T)</th>\n",
       "      <th>to_rgb()</th>\n",
       "      <th>to_rgba(alpha=None)</th>\n",
       "      <th>to_rgba(alpha=0.2)</th>\n",
       "    </tr>\n",
       "  </thead>\n",
       "  <tbody>\n",
       "    <tr>\n",
       "      <th>0</th>\n",
       "      <td>darkred</td>\n",
       "      <td>#8b0000</td>\n",
       "      <td>#8b0000ff</td>\n",
       "      <td>[0.545, 0.0, 0.0]</td>\n",
       "      <td>[0.545, 0.0, 0.0, 1.0]</td>\n",
       "      <td>[0.545, 0.0, 0.0, 0.2]</td>\n",
       "    </tr>\n",
       "    <tr>\n",
       "      <th>1</th>\n",
       "      <td>#AABBFF</td>\n",
       "      <td>#aabbff</td>\n",
       "      <td>#aabbffff</td>\n",
       "      <td>[0.667, 0.733, 1.0]</td>\n",
       "      <td>[0.667, 0.733, 1.0, 1.0]</td>\n",
       "      <td>[0.667, 0.733, 1.0, 0.2]</td>\n",
       "    </tr>\n",
       "    <tr>\n",
       "      <th>2</th>\n",
       "      <td>#AABBFF55</td>\n",
       "      <td>#aabbff</td>\n",
       "      <td>#aabbff55</td>\n",
       "      <td>[0.667, 0.733, 1.0]</td>\n",
       "      <td>[0.667, 0.733, 1.0, 0.333]</td>\n",
       "      <td>[0.667, 0.733, 1.0, 0.2]</td>\n",
       "    </tr>\n",
       "    <tr>\n",
       "      <th>3</th>\n",
       "      <td>[0.2, 0.4, 0.5]</td>\n",
       "      <td>#336680</td>\n",
       "      <td>#336680ff</td>\n",
       "      <td>[0.2, 0.4, 0.5]</td>\n",
       "      <td>[0.2, 0.4, 0.5, 1.0]</td>\n",
       "      <td>[0.2, 0.4, 0.5, 0.2]</td>\n",
       "    </tr>\n",
       "    <tr>\n",
       "      <th>4</th>\n",
       "      <td>[0.2, 0.4, 0.5, 0.6]</td>\n",
       "      <td>#336680</td>\n",
       "      <td>#33668099</td>\n",
       "      <td>[0.2, 0.4, 0.5]</td>\n",
       "      <td>[0.2, 0.4, 0.5, 0.6]</td>\n",
       "      <td>[0.2, 0.4, 0.5, 0.2]</td>\n",
       "    </tr>\n",
       "  </tbody>\n",
       "</table>\n",
       "</div>"
      ],
      "text/plain": [
       "                  input to_hex(F)  to_hex(T)             to_rgb()  \\\n",
       "0               darkred   #8b0000  #8b0000ff    [0.545, 0.0, 0.0]   \n",
       "1               #AABBFF   #aabbff  #aabbffff  [0.667, 0.733, 1.0]   \n",
       "2             #AABBFF55   #aabbff  #aabbff55  [0.667, 0.733, 1.0]   \n",
       "3       [0.2, 0.4, 0.5]   #336680  #336680ff      [0.2, 0.4, 0.5]   \n",
       "4  [0.2, 0.4, 0.5, 0.6]   #336680  #33668099      [0.2, 0.4, 0.5]   \n",
       "\n",
       "          to_rgba(alpha=None)        to_rgba(alpha=0.2)  \n",
       "0      [0.545, 0.0, 0.0, 1.0]    [0.545, 0.0, 0.0, 0.2]  \n",
       "1    [0.667, 0.733, 1.0, 1.0]  [0.667, 0.733, 1.0, 0.2]  \n",
       "2  [0.667, 0.733, 1.0, 0.333]  [0.667, 0.733, 1.0, 0.2]  \n",
       "3        [0.2, 0.4, 0.5, 1.0]      [0.2, 0.4, 0.5, 0.2]  \n",
       "4        [0.2, 0.4, 0.5, 0.6]      [0.2, 0.4, 0.5, 0.2]  "
      ]
     },
     "metadata": {},
     "execution_count": 38
    }
   ],
   "metadata": {}
  },
  {
   "cell_type": "markdown",
   "source": [
    "### 2. to_rgba_array(): 일괄 변경\r\n",
    "\r\n",
    "- 일정 이하 소숫점 버리기\r\n",
    "- 원소가 3개면 alpha = 1\r\n",
    "- 3개 미만이면 raise error"
   ],
   "metadata": {}
  },
  {
   "cell_type": "code",
   "execution_count": 3,
   "source": [
    "colors = []\r\n",
    "for i in range(5):\r\n",
    "  colorc = [random(), random(), random(), random()]\r\n",
    "  colors.append(colorc)\r\n",
    "\r\n",
    "print(\"# colors=\", colors, f\"# type(colors)= {type(colors)}\", sep=\"\\n\")"
   ],
   "outputs": [
    {
     "output_type": "stream",
     "name": "stdout",
     "text": [
      "# colors=\n",
      "[[0.5025941718451649, 0.37912341659508175, 0.7193117768941568, 0.9355509213014598], [0.16869187292866616, 0.005582359776039492, 0.17259219668356562, 0.7446326176772887], [0.3236810660757563, 0.015014037596857266, 0.13765870166930005, 0.5799621673499226], [0.7970108454208075, 0.8155583670826929, 0.5671371191482839, 0.4687799590341243], [0.1603109890307297, 0.22971907791203372, 0.6768957843333514, 0.1300554227680225]]\n",
      "# type(colors)= <class 'list'>\n"
     ]
    }
   ],
   "metadata": {}
  },
  {
   "cell_type": "code",
   "execution_count": 4,
   "source": [
    "rgb_code = mcolors.to_rgba_array(colors)\r\n",
    "print(\"# rgb_code=\", rgb_code, f\"type(rgb_code)= {type(rgb_code)}\", sep=\"\\n\")"
   ],
   "outputs": [
    {
     "output_type": "stream",
     "name": "stdout",
     "text": [
      "# rgb_code=\n",
      "[[0.50259417 0.37912342 0.71931178 0.93555092]\n",
      " [0.16869187 0.00558236 0.1725922  0.74463262]\n",
      " [0.32368107 0.01501404 0.1376587  0.57996217]\n",
      " [0.79701085 0.81555837 0.56713712 0.46877996]\n",
      " [0.16031099 0.22971908 0.67689578 0.13005542]]\n",
      "type(rgb_code)= <class 'numpy.ndarray'>\n"
     ]
    }
   ],
   "metadata": {}
  },
  {
   "cell_type": "markdown",
   "source": [
    "Numpy's Masked Array\r\n",
    "\r\n",
    "- invalid 등 특정 데이터에 mask를 씌워 가린 numpy array"
   ],
   "metadata": {}
  },
  {
   "cell_type": "code",
   "execution_count": 7,
   "source": [
    "mask = [[0, 0, 0, 0], [0, 0, 0, 0], [1, 1, 1, 0], [0, 0, 0, 1], [0, 0, 0, 0]]\r\n",
    "# 세번째 행 1 ~ 3열과 네번째 행 4열을 가리는 mask\r\n",
    "mx = np.ma.masked_array(colors, mask)\r\n",
    "\r\n",
    "print(\"# mx=\", mx, f\"type(mx)= {type(mx)}\", sep=\"\\n\")"
   ],
   "outputs": [
    {
     "output_type": "stream",
     "name": "stdout",
     "text": [
      "# mx=\n",
      "[[0.5025941718451649 0.37912341659508175 0.7193117768941568\n",
      "  0.9355509213014598]\n",
      " [0.16869187292866616 0.005582359776039492 0.17259219668356562\n",
      "  0.7446326176772887]\n",
      " [-- -- -- 0.5799621673499226]\n",
      " [0.7970108454208075 0.8155583670826929 0.5671371191482839 --]\n",
      " [0.1603109890307297 0.22971907791203372 0.6768957843333514\n",
      "  0.1300554227680225]]\n",
      "type(mx)= <class 'numpy.ma.core.MaskedArray'>\n"
     ]
    }
   ],
   "metadata": {}
  },
  {
   "cell_type": "markdown",
   "source": [
    "### 3. rgb_to_hsv() and hsv_to_rgb()"
   ],
   "metadata": {}
  },
  {
   "cell_type": "markdown",
   "source": [
    "간만에 보는 rgb, hsv 색상표\r\n",
    "\r\n",
    "<img src=\"images/rgb_and_hsv.png\" style=\"display: block; margin: auto;\" alt=\"RGB, HSV 3d color space\" />\r\n",
    "\r\n",
    "- RGB: Red, Greed, Blue 순으로 색의 값을 표현하는 color 표기\r\n",
    "- BGR: 대부분의 영상처리에 관련한 programming 언어에서 채택하는 color 표기\r\n",
    "- HSV: Hue, Sturation, Value순. 색채 다양성, 채도, 명도 정도로 생각할 수 있음.\r\n",
    "- YCrCb: Luma, Blue-difference, Red-difference. 여기서부턴 사람이 지정하는 것보다 computer로 색 찾는 게 더 빠름. (앞에 표기도 그렇지만, 여기서부터는 장난 없는 걸로 기억함.)\r\n",
    "- CIE (이름만 들어봤음)"
   ],
   "metadata": {}
  },
  {
   "cell_type": "code",
   "execution_count": 15,
   "source": [
    "hsv_c4 = mcolors.rgb_to_hsv(c4)\r\n",
    "rgb_c4 = mcolors.hsv_to_rgb(hsv_c4)"
   ],
   "outputs": [],
   "metadata": {}
  },
  {
   "cell_type": "code",
   "execution_count": 17,
   "source": [
    "print(f\"c4:\\t{c4}\", f\"to hsv:\\t{hsv_c4}\", f\"to rgb:\\t{rgb_c4}\", sep=\"\\n\")"
   ],
   "outputs": [
    {
     "output_type": "stream",
     "name": "stdout",
     "text": [
      "c4:\t[0.2, 0.4, 0.5]\n",
      "to hsv:\t[0.55555556 0.6        0.5       ]\n",
      "to rgb:\t[0.2 0.4 0.5]\n"
     ]
    }
   ],
   "metadata": {}
  }
 ],
 "metadata": {
  "orig_nbformat": 4,
  "language_info": {
   "name": "python",
   "version": "3.7.9",
   "mimetype": "text/x-python",
   "codemirror_mode": {
    "name": "ipython",
    "version": 3
   },
   "pygments_lexer": "ipython3",
   "nbconvert_exporter": "python",
   "file_extension": ".py"
  },
  "kernelspec": {
   "name": "python3",
   "display_name": "Python 3.7.9 64-bit ('base': conda)"
  },
  "interpreter": {
   "hash": "97ae724bfa85b9b34df7982b8bb8c7216f435b92902d749e4263f71162bea840"
  }
 },
 "nbformat": 4,
 "nbformat_minor": 2
}